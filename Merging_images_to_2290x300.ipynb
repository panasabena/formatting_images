{
 "cells": [
  {
   "cell_type": "code",
   "execution_count": 18,
   "id": "5eff0349",
   "metadata": {},
   "outputs": [],
   "source": [
    "#new_image = image.resize((400, 400))\n",
    "#new_image.save('image_400.jpg')\n",
    "\n",
    "#print(new_image.size) # Output: (400, 400)"
   ]
  },
  {
   "cell_type": "code",
   "execution_count": 2,
   "id": "f6adb642",
   "metadata": {},
   "outputs": [],
   "source": [
    "from PIL import Image"
   ]
  },
  {
   "cell_type": "code",
   "execution_count": 3,
   "id": "9730eef4",
   "metadata": {},
   "outputs": [],
   "source": [
    "image = Image.open('C:/Users/fsabena/Downloads/SignatureClassicsArray.jpg')"
   ]
  },
  {
   "cell_type": "code",
   "execution_count": 4,
   "id": "28a64cab",
   "metadata": {},
   "outputs": [
    {
     "name": "stdout",
     "output_type": "stream",
     "text": [
      "(6158, 4402)\n"
     ]
    }
   ],
   "source": [
    "print(image.size) # Output: (6158, 4402)"
   ]
  },
  {
   "cell_type": "code",
   "execution_count": 7,
   "id": "7e27ecc8",
   "metadata": {},
   "outputs": [],
   "source": [
    "## It opens the image in the default visualizator\n",
    "image.show()"
   ]
  },
  {
   "cell_type": "code",
   "execution_count": 17,
   "id": "1491e9dc",
   "metadata": {},
   "outputs": [],
   "source": [
    "## Remember that the principal image have to contain 8 photos, we have to resize 8 images to (2290/8) x 300 pixels\n",
    "## The new configuration is not allowed to contain decimals, so we have to compensate that decimals in the others images."
   ]
  },
  {
   "cell_type": "code",
   "execution_count": 23,
   "id": "02827e91",
   "metadata": {},
   "outputs": [
    {
     "name": "stdout",
     "output_type": "stream",
     "text": [
      "The correct size for all the images is ---->>> 286.25 x 300\n"
     ]
    }
   ],
   "source": [
    "print(\"The correct size for all the images is ---->>>\",2290/8,\"x 300\")"
   ]
  },
  {
   "cell_type": "code",
   "execution_count": 24,
   "id": "daeb353e",
   "metadata": {},
   "outputs": [],
   "source": [
    "new_image = image.resize((286, 300))\n",
    "new_image.save('C:/Users/fsabena/OneDrive - MicroStrategy, Inc/Darden/primera_imagen.jpg')"
   ]
  },
  {
   "cell_type": "code",
   "execution_count": 16,
   "id": "b87c0bb7",
   "metadata": {},
   "outputs": [],
   "source": [
    "## <shows how it turned out:\n",
    "new_image.show()"
   ]
  },
  {
   "cell_type": "code",
   "execution_count": 19,
   "id": "5f3926a1",
   "metadata": {},
   "outputs": [
    {
     "name": "stdout",
     "output_type": "stream",
     "text": [
      "(6615, 4410)\n"
     ]
    }
   ],
   "source": [
    "## Resizing the second image:\n",
    "second_image = Image.open('C:/Users/fsabena/Downloads/PestoChickenFlatbread.jpg')\n",
    "print (second_image.size)"
   ]
  },
  {
   "cell_type": "code",
   "execution_count": 25,
   "id": "363d1e3d",
   "metadata": {},
   "outputs": [],
   "source": [
    "new_second_image = second_image.resize((286, 300))\n",
    "new_second_image.save('C:/Users/fsabena/OneDrive - MicroStrategy, Inc/Darden/segunda_imagen.jpg')"
   ]
  },
  {
   "cell_type": "code",
   "execution_count": 30,
   "id": "6f4813c7",
   "metadata": {},
   "outputs": [
    {
     "name": "stdout",
     "output_type": "stream",
     "text": [
      "(7360, 4912)\n"
     ]
    }
   ],
   "source": [
    "## Resizing the third image:\n",
    "third_image = Image.open('C:/Users/fsabena/Downloads/PokeNachos.jpg')\n",
    "print (third_image.size)"
   ]
  },
  {
   "cell_type": "code",
   "execution_count": 28,
   "id": "14f8afa2",
   "metadata": {},
   "outputs": [],
   "source": [
    "## Saving the new image\n",
    "new_third_image = second_image.resize((286, 300))\n",
    "new_third_image.save('C:/Users/fsabena/OneDrive - MicroStrategy, Inc/Darden/third_image.jpg')"
   ]
  },
  {
   "cell_type": "code",
   "execution_count": 32,
   "id": "a35efd61",
   "metadata": {},
   "outputs": [
    {
     "name": "stdout",
     "output_type": "stream",
     "text": [
      "(7360, 4912)\n"
     ]
    }
   ],
   "source": [
    "## Resizing the fourth image:\n",
    "fourth_image = Image.open('C:/Users/fsabena/Downloads/fillet-prefered.jpg')\n",
    "print (fourth_image.size)\n",
    "## Saving the new image\n",
    "new_fourth_image = fourth_image.resize((286, 300))\n",
    "new_fourth_image.save('C:/Users/fsabena/OneDrive - MicroStrategy, Inc/Darden/fourth_image.jpg')"
   ]
  },
  {
   "cell_type": "code",
   "execution_count": 36,
   "id": "cdf593c6",
   "metadata": {},
   "outputs": [
    {
     "data": {
      "text/plain": [
       "0"
      ]
     },
     "execution_count": 36,
     "metadata": {},
     "output_type": "execute_result"
    }
   ],
   "source": [
    "2290-(286*6)-287-287"
   ]
  },
  {
   "cell_type": "code",
   "execution_count": 38,
   "id": "2597e24f",
   "metadata": {},
   "outputs": [
    {
     "name": "stdout",
     "output_type": "stream",
     "text": [
      "(6720, 4480)\n"
     ]
    }
   ],
   "source": [
    "## Resizing the fiveth image:\n",
    "fifth_image = Image.open('C:/Users/fsabena/Downloads/Chicken_Tender_Platter.TIF')\n",
    "print (fifth_image.size)\n",
    "## Saving the new image\n",
    "new_fifth_image = fifth_image.resize((286, 300))\n",
    "new_fifth_image.save('C:/Users/fsabena/OneDrive - MicroStrategy, Inc/Darden/fifth_image.jpg')"
   ]
  },
  {
   "cell_type": "code",
   "execution_count": 40,
   "id": "b74d5dec",
   "metadata": {},
   "outputs": [
    {
     "name": "stdout",
     "output_type": "stream",
     "text": [
      "(8737, 6565)\n"
     ]
    }
   ],
   "source": [
    "## Resizing the sixth image:\n",
    "sixth_image = Image.open('C:/Users/fsabena/Downloads/2058LH_OutlawRbyPrpLBP.TIF')\n",
    "print (sixth_image.size)\n",
    "## Saving the new image\n",
    "new_sixth_image = sixth_image.resize((286, 300))\n",
    "new_sixth_image.save('C:/Users/fsabena/OneDrive - MicroStrategy, Inc/Darden/sixth_image.jpg')"
   ]
  },
  {
   "cell_type": "code",
   "execution_count": 42,
   "id": "3665930d",
   "metadata": {},
   "outputs": [
    {
     "name": "stdout",
     "output_type": "stream",
     "text": [
      "(8985, 6751)\n"
     ]
    }
   ],
   "source": [
    "## Resizing the seventh image:\n",
    "seventh_image = Image.open('C:/Users/fsabena/Downloads/2051LH_SsnStkHseWngs.TIF')\n",
    "print (seventh_image.size)\n",
    "## Saving the new image\n",
    "new_seventh_image = seventh_image.resize((287, 300))\n",
    "new_seventh_image.save('C:/Users/fsabena/OneDrive - MicroStrategy, Inc/Darden/seventh_image.jpg')"
   ]
  },
  {
   "cell_type": "code",
   "execution_count": 43,
   "id": "831bb3e7",
   "metadata": {},
   "outputs": [
    {
     "name": "stdout",
     "output_type": "stream",
     "text": [
      "(640, 387)\n"
     ]
    }
   ],
   "source": [
    "## Resizing the eighth image:\n",
    "eighth_image = Image.open('C:/Users/fsabena/Downloads/french-onion-burger-2-640x387.jpg')\n",
    "print (eighth_image.size)\n",
    "## Saving the new image\n",
    "new_eighth_image = eighth_image.resize((287, 300))\n",
    "new_eighth_image.save('C:/Users/fsabena/OneDrive - MicroStrategy, Inc/Darden/eighth_image.jpg')"
   ]
  },
  {
   "cell_type": "code",
   "execution_count": 55,
   "id": "e97d1d41",
   "metadata": {},
   "outputs": [],
   "source": [
    "## Merging images\n",
    "\n",
    "import sys\n",
    "\n",
    "list_im = [new_image, new_second_image, new_third_image]\n",
    "\n",
    "images = [Image.open(x) for x in ['C:/Users/fsabena/OneDrive - MicroStrategy, Inc/Darden/primera_imagen.jpg',\n",
    "                                  'C:/Users/fsabena/OneDrive - MicroStrategy, Inc/Darden/segunda_imagen.jpg',\n",
    "                                  'C:/Users/fsabena/OneDrive - MicroStrategy, Inc/Darden/third_image.jpg',\n",
    "                                  'C:/Users/fsabena/OneDrive - MicroStrategy, Inc/Darden/fourth_image.jpg',\n",
    "                                  'C:/Users/fsabena/OneDrive - MicroStrategy, Inc/Darden/fifth_image.jpg',\n",
    "                                  'C:/Users/fsabena/OneDrive - MicroStrategy, Inc/Darden/sixth_image.jpg',\n",
    "                                  'C:/Users/fsabena/OneDrive - MicroStrategy, Inc/Darden/seventh_image.jpg',\n",
    "                                  'C:/Users/fsabena/OneDrive - MicroStrategy, Inc/Darden/eighth_image.jpg'\n",
    "                                 ]]\n",
    "widths, heights = zip(*(i.size for i in images))\n",
    "\n",
    "total_width = sum(widths)\n",
    "max_height = max(heights)\n",
    "\n",
    "new_im = Image.new('RGB', (total_width, max_height))\n",
    "\n",
    "x_offset = 0\n",
    "for im in images:\n",
    "  new_im.paste(im, (x_offset,0))\n",
    "  x_offset += im.size[0]\n",
    "\n",
    "new_im.save('C:/Users/fsabena/OneDrive - MicroStrategy, Inc/Darden/test.jpg')"
   ]
  },
  {
   "cell_type": "code",
   "execution_count": null,
   "id": "74707257",
   "metadata": {},
   "outputs": [],
   "source": []
  }
 ],
 "metadata": {
  "kernelspec": {
   "display_name": "Python 3",
   "language": "python",
   "name": "python3"
  },
  "language_info": {
   "codemirror_mode": {
    "name": "ipython",
    "version": 3
   },
   "file_extension": ".py",
   "mimetype": "text/x-python",
   "name": "python",
   "nbconvert_exporter": "python",
   "pygments_lexer": "ipython3",
   "version": "3.8.8"
  }
 },
 "nbformat": 4,
 "nbformat_minor": 5
}
